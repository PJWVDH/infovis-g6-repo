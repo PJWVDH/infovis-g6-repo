{
 "cells": [
  {
   "cell_type": "markdown",
   "metadata": {},
   "source": [
    "# Reflectie \n",
    "Na de presentatie werd er feedback gegeven op onze datastory. De feedback van het andere groepje was voornamelijk een aantal fouten in de grafieken zoals een vergelijking tussen twee lijngrafieken waar er verschillende periodes met elkaar werden vergeleken, of dat bepaalde kleurcombinaties van datavisualisatie niet consistent waren. Ook misten de beschrijvingen van de grafieken. De TA gaf aan dat het beter is om eerst je perspectief en argument te brengen en dat met je data te ondersteunen, en dan pas vertellen dat de literatuur je datavisualisatie ondersteunt en niet eerst literatuur en dan pas de visualisatie. Ook raadde de TA ons aan om een visualisatie te maken waar zowel roken en uitstoot beide werden bekeken en niet alleen apart van elkaar. Ook maakten wij de aanname in onze presentatie dat bepaalde landen niet eerlijke data hebben doorgegeven, de TA waarschuwde ons hiervoor dat dit ook meetfouten geweest konden zijn. Hierna hebben we dit deel ook geschrapt uit ons dataverhaal. "
   ]
  },
  {
   "cell_type": "markdown",
   "metadata": {},
   "source": [
    "# Zelfreflectie\n",
    "\n",
    "Tijdens het project kwamen we erachter dat we het beste werkten als we allemaal fysiek aanwezig waren op de universiteit omdat dit het samenwerkingsproces veel efficiënter maakte. Dit heeft er ook voor gezorgd dat we op tijd een aantal fouten konden vinden in onze grafieken en dat een dataset die we hadden gekozen een groot aantal fouten bevatte waardoor we op tijd een nieuwe dataset hebben kunnen vinden en gebruiken. Als het project langer was geweest hadden we wellicht nog kunnen onderzoeken of het aandeel TBL-kankergevallen ook hoger was in gebieden met veel uitstoot of rokers, maar voor nu paste dit niet meer binnen ons dataverhaal dus hebben we dat achterwege gelaten. \n"
   ]
  },
  {
   "cell_type": "markdown",
   "metadata": {},
   "source": [
    "# Werkverdeling\n",
    "We begonnen dit project door eerst een onderwerp voor ons dataverhaal te bedenken. Nadat we ons onderwerp gevonden hadden hebben we alle drie eerst een aantal datasets gezocht. In de eerstvolgende werkgroep hebben we toen samen een selectie gemaakt van de sterkste datasets en toen zijn we begonnen met het bedenken van onze verschillende perspectieven. De grafieken zijn voornamelijk gemaakt door Stef en Wijnand, met uitzondering van de grafieken over het roken. Het meeste schrijfwerk van de introductie, argumenten en reflectie zijn door Berend gemaakt. Over het algemeen heeft iedereen wel wat aan elk deel meegeholpen, of dat nou regels code, alinea’s of feedback was."
   ]
  }
 ],
 "metadata": {
  "language_info": {
   "name": "python"
  }
 },
 "nbformat": 4,
 "nbformat_minor": 2
}
